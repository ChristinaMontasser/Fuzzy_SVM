{
  "cells": [
    {
      "cell_type": "markdown",
      "metadata": {
        "id": "16UXHDRPiUI3"
      },
      "source": [
        "\n",
        "# Data Upload\n",
        "\n",
        "\n"
      ]
    },
    {
      "cell_type": "code",
      "execution_count": null,
      "metadata": {
        "colab": {
          "base_uri": "https://localhost:8080/"
        },
        "id": "AbypulsY3DIy",
        "outputId": "4e4b5912-45f4-4e3b-ebd1-998405b705c8"
      },
      "outputs": [
        {
          "name": "stdout",
          "output_type": "stream",
          "text": [
            "Looking in indexes: https://pypi.org/simple, https://us-python.pkg.dev/colab-wheels/public/simple/\n",
            "Requirement already satisfied: cvxopt in /usr/local/lib/python3.7/dist-packages (1.3.0)\n"
          ]
        }
      ],
      "source": [
        "!pip install cvxopt"
      ]
    },
    {
      "cell_type": "code",
      "execution_count": null,
      "metadata": {
        "colab": {
          "base_uri": "https://localhost:8080/"
        },
        "id": "HP16b89sXKq0",
        "outputId": "69be563b-5c0b-454c-f9f7-8091c43ea973"
      },
      "outputs": [
        {
          "name": "stdout",
          "output_type": "stream",
          "text": [
            "Looking in indexes: https://pypi.org/simple, https://us-python.pkg.dev/colab-wheels/public/simple/\n",
            "Collecting opendatasets\n",
            "  Downloading opendatasets-0.1.22-py3-none-any.whl (15 kB)\n",
            "Requirement already satisfied: click in /usr/local/lib/python3.7/dist-packages (from opendatasets) (7.1.2)\n",
            "Requirement already satisfied: kaggle in /usr/local/lib/python3.7/dist-packages (from opendatasets) (1.5.12)\n",
            "Requirement already satisfied: tqdm in /usr/local/lib/python3.7/dist-packages (from opendatasets) (4.64.1)\n",
            "Requirement already satisfied: python-dateutil in /usr/local/lib/python3.7/dist-packages (from kaggle->opendatasets) (2.8.2)\n",
            "Requirement already satisfied: six>=1.10 in /usr/local/lib/python3.7/dist-packages (from kaggle->opendatasets) (1.15.0)\n",
            "Requirement already satisfied: requests in /usr/local/lib/python3.7/dist-packages (from kaggle->opendatasets) (2.23.0)\n",
            "Requirement already satisfied: urllib3 in /usr/local/lib/python3.7/dist-packages (from kaggle->opendatasets) (1.24.3)\n",
            "Requirement already satisfied: certifi in /usr/local/lib/python3.7/dist-packages (from kaggle->opendatasets) (2022.9.24)\n",
            "Requirement already satisfied: python-slugify in /usr/local/lib/python3.7/dist-packages (from kaggle->opendatasets) (6.1.2)\n",
            "Requirement already satisfied: text-unidecode>=1.3 in /usr/local/lib/python3.7/dist-packages (from python-slugify->kaggle->opendatasets) (1.3)\n",
            "Requirement already satisfied: idna<3,>=2.5 in /usr/local/lib/python3.7/dist-packages (from requests->kaggle->opendatasets) (2.10)\n",
            "Requirement already satisfied: chardet<4,>=3.0.2 in /usr/local/lib/python3.7/dist-packages (from requests->kaggle->opendatasets) (3.0.4)\n",
            "Installing collected packages: opendatasets\n",
            "Successfully installed opendatasets-0.1.22\n",
            "Looking in indexes: https://pypi.org/simple, https://us-python.pkg.dev/colab-wheels/public/simple/\n",
            "Requirement already satisfied: pandas in /usr/local/lib/python3.7/dist-packages (1.3.5)\n",
            "Requirement already satisfied: python-dateutil>=2.7.3 in /usr/local/lib/python3.7/dist-packages (from pandas) (2.8.2)\n",
            "Requirement already satisfied: pytz>=2017.3 in /usr/local/lib/python3.7/dist-packages (from pandas) (2022.5)\n",
            "Requirement already satisfied: numpy>=1.17.3 in /usr/local/lib/python3.7/dist-packages (from pandas) (1.21.6)\n",
            "Requirement already satisfied: six>=1.5 in /usr/local/lib/python3.7/dist-packages (from python-dateutil>=2.7.3->pandas) (1.15.0)\n",
            "Looking in indexes: https://pypi.org/simple, https://us-python.pkg.dev/colab-wheels/public/simple/\n",
            "Collecting scikit-fuzzy\n",
            "  Downloading scikit-fuzzy-0.4.2.tar.gz (993 kB)\n",
            "\u001b[K     |████████████████████████████████| 993 kB 6.1 MB/s \n",
            "\u001b[?25hRequirement already satisfied: numpy>=1.6.0 in /usr/local/lib/python3.7/dist-packages (from scikit-fuzzy) (1.21.6)\n",
            "Requirement already satisfied: scipy>=0.9.0 in /usr/local/lib/python3.7/dist-packages (from scikit-fuzzy) (1.7.3)\n",
            "Requirement already satisfied: networkx>=1.9.0 in /usr/local/lib/python3.7/dist-packages (from scikit-fuzzy) (2.6.3)\n",
            "Building wheels for collected packages: scikit-fuzzy\n",
            "  Building wheel for scikit-fuzzy (setup.py) ... \u001b[?25l\u001b[?25hdone\n",
            "  Created wheel for scikit-fuzzy: filename=scikit_fuzzy-0.4.2-py3-none-any.whl size=894089 sha256=5d6acc3cf62129c54ad042b1aa062ef4d946ff84a7a4f757bed5361f0c6be9ec\n",
            "  Stored in directory: /root/.cache/pip/wheels/d5/74/fc/38588a3d2e3f34f74588e6daa3aa5b0a322bd6f9420a707131\n",
            "Successfully built scikit-fuzzy\n",
            "Installing collected packages: scikit-fuzzy\n",
            "Successfully installed scikit-fuzzy-0.4.2\n"
          ]
        }
      ],
      "source": [
        "!pip install opendatasets\n",
        "!pip install pandas\n",
        "!pip install -U scikit-fuzzy"
      ]
    },
    {
      "cell_type": "code",
      "execution_count": null,
      "metadata": {
        "id": "ybyeItoVWY1h"
      },
      "outputs": [],
      "source": [
        "from cvxopt import matrix, solvers\n",
        "import numpy as np\n",
        "from sklearn.metrics import accuracy_score, confusion_matrix, f1_score\n",
        "import opendatasets as od\n",
        "import pandas as pd\n",
        "import numpy as np\n",
        "import seaborn as sns\n",
        "import matplotlib.pyplot as plt\n",
        "from sklearn.model_selection import train_test_split\n",
        "import skfuzzy as fuzzy\n"
      ]
    },
    {
      "cell_type": "code",
      "execution_count": null,
      "metadata": {
        "colab": {
          "base_uri": "https://localhost:8080/"
        },
        "id": "tuVfa0kIW9Gu",
        "outputId": "c0b871c2-720f-4836-f5d6-87a427962a3d"
      },
      "outputs": [
        {
          "name": "stdout",
          "output_type": "stream",
          "text": [
            "Please provide your Kaggle credentials to download this dataset. Learn more: http://bit.ly/kaggle-creds\n",
            "Your Kaggle username: chrismontasser\n",
            "Your Kaggle Key: ··········\n",
            "Downloading smoke-detection-dataset.zip to ./smoke-detection-dataset\n"
          ]
        },
        {
          "name": "stderr",
          "output_type": "stream",
          "text": [
            "100%|██████████| 1.64M/1.64M [00:00<00:00, 33.9MB/s]"
          ]
        },
        {
          "name": "stdout",
          "output_type": "stream",
          "text": [
            "\n"
          ]
        },
        {
          "name": "stderr",
          "output_type": "stream",
          "text": [
            "\n"
          ]
        }
      ],
      "source": [
        "od.download(\"https://www.kaggle.com/datasets/deepcontractor/smoke-detection-dataset\")"
      ]
    },
    {
      "cell_type": "code",
      "execution_count": null,
      "metadata": {
        "colab": {
          "base_uri": "https://localhost:8080/",
          "height": 287
        },
        "id": "gIAdDJN6Xtu1",
        "outputId": "a401edc5-3abd-4463-e6f7-40ffda65af5a"
      },
      "outputs": [
        {
          "data": {
            "text/html": [
              "\n",
              "  <div id=\"df-54ce7c7d-0a9f-48e6-bdb0-b3e5502806a6\">\n",
              "    <div class=\"colab-df-container\">\n",
              "      <div>\n",
              "<style scoped>\n",
              "    .dataframe tbody tr th:only-of-type {\n",
              "        vertical-align: middle;\n",
              "    }\n",
              "\n",
              "    .dataframe tbody tr th {\n",
              "        vertical-align: top;\n",
              "    }\n",
              "\n",
              "    .dataframe thead th {\n",
              "        text-align: right;\n",
              "    }\n",
              "</style>\n",
              "<table border=\"1\" class=\"dataframe\">\n",
              "  <thead>\n",
              "    <tr style=\"text-align: right;\">\n",
              "      <th></th>\n",
              "      <th>Unnamed: 0</th>\n",
              "      <th>UTC</th>\n",
              "      <th>Temperature[C]</th>\n",
              "      <th>Humidity[%]</th>\n",
              "      <th>TVOC[ppb]</th>\n",
              "      <th>eCO2[ppm]</th>\n",
              "      <th>Raw H2</th>\n",
              "      <th>Raw Ethanol</th>\n",
              "      <th>Pressure[hPa]</th>\n",
              "      <th>PM1.0</th>\n",
              "      <th>PM2.5</th>\n",
              "      <th>NC0.5</th>\n",
              "      <th>NC1.0</th>\n",
              "      <th>NC2.5</th>\n",
              "      <th>CNT</th>\n",
              "      <th>Fire Alarm</th>\n",
              "    </tr>\n",
              "  </thead>\n",
              "  <tbody>\n",
              "    <tr>\n",
              "      <th>0</th>\n",
              "      <td>0</td>\n",
              "      <td>1654733331</td>\n",
              "      <td>20.000</td>\n",
              "      <td>57.36</td>\n",
              "      <td>0</td>\n",
              "      <td>400</td>\n",
              "      <td>12306</td>\n",
              "      <td>18520</td>\n",
              "      <td>939.735</td>\n",
              "      <td>0.0</td>\n",
              "      <td>0.0</td>\n",
              "      <td>0.0</td>\n",
              "      <td>0.0</td>\n",
              "      <td>0.0</td>\n",
              "      <td>0</td>\n",
              "      <td>0</td>\n",
              "    </tr>\n",
              "    <tr>\n",
              "      <th>1</th>\n",
              "      <td>1</td>\n",
              "      <td>1654733332</td>\n",
              "      <td>20.015</td>\n",
              "      <td>56.67</td>\n",
              "      <td>0</td>\n",
              "      <td>400</td>\n",
              "      <td>12345</td>\n",
              "      <td>18651</td>\n",
              "      <td>939.744</td>\n",
              "      <td>0.0</td>\n",
              "      <td>0.0</td>\n",
              "      <td>0.0</td>\n",
              "      <td>0.0</td>\n",
              "      <td>0.0</td>\n",
              "      <td>1</td>\n",
              "      <td>0</td>\n",
              "    </tr>\n",
              "    <tr>\n",
              "      <th>2</th>\n",
              "      <td>2</td>\n",
              "      <td>1654733333</td>\n",
              "      <td>20.029</td>\n",
              "      <td>55.96</td>\n",
              "      <td>0</td>\n",
              "      <td>400</td>\n",
              "      <td>12374</td>\n",
              "      <td>18764</td>\n",
              "      <td>939.738</td>\n",
              "      <td>0.0</td>\n",
              "      <td>0.0</td>\n",
              "      <td>0.0</td>\n",
              "      <td>0.0</td>\n",
              "      <td>0.0</td>\n",
              "      <td>2</td>\n",
              "      <td>0</td>\n",
              "    </tr>\n",
              "    <tr>\n",
              "      <th>3</th>\n",
              "      <td>3</td>\n",
              "      <td>1654733334</td>\n",
              "      <td>20.044</td>\n",
              "      <td>55.28</td>\n",
              "      <td>0</td>\n",
              "      <td>400</td>\n",
              "      <td>12390</td>\n",
              "      <td>18849</td>\n",
              "      <td>939.736</td>\n",
              "      <td>0.0</td>\n",
              "      <td>0.0</td>\n",
              "      <td>0.0</td>\n",
              "      <td>0.0</td>\n",
              "      <td>0.0</td>\n",
              "      <td>3</td>\n",
              "      <td>0</td>\n",
              "    </tr>\n",
              "    <tr>\n",
              "      <th>4</th>\n",
              "      <td>4</td>\n",
              "      <td>1654733335</td>\n",
              "      <td>20.059</td>\n",
              "      <td>54.69</td>\n",
              "      <td>0</td>\n",
              "      <td>400</td>\n",
              "      <td>12403</td>\n",
              "      <td>18921</td>\n",
              "      <td>939.744</td>\n",
              "      <td>0.0</td>\n",
              "      <td>0.0</td>\n",
              "      <td>0.0</td>\n",
              "      <td>0.0</td>\n",
              "      <td>0.0</td>\n",
              "      <td>4</td>\n",
              "      <td>0</td>\n",
              "    </tr>\n",
              "  </tbody>\n",
              "</table>\n",
              "</div>\n",
              "      <button class=\"colab-df-convert\" onclick=\"convertToInteractive('df-54ce7c7d-0a9f-48e6-bdb0-b3e5502806a6')\"\n",
              "              title=\"Convert this dataframe to an interactive table.\"\n",
              "              style=\"display:none;\">\n",
              "        \n",
              "  <svg xmlns=\"http://www.w3.org/2000/svg\" height=\"24px\"viewBox=\"0 0 24 24\"\n",
              "       width=\"24px\">\n",
              "    <path d=\"M0 0h24v24H0V0z\" fill=\"none\"/>\n",
              "    <path d=\"M18.56 5.44l.94 2.06.94-2.06 2.06-.94-2.06-.94-.94-2.06-.94 2.06-2.06.94zm-11 1L8.5 8.5l.94-2.06 2.06-.94-2.06-.94L8.5 2.5l-.94 2.06-2.06.94zm10 10l.94 2.06.94-2.06 2.06-.94-2.06-.94-.94-2.06-.94 2.06-2.06.94z\"/><path d=\"M17.41 7.96l-1.37-1.37c-.4-.4-.92-.59-1.43-.59-.52 0-1.04.2-1.43.59L10.3 9.45l-7.72 7.72c-.78.78-.78 2.05 0 2.83L4 21.41c.39.39.9.59 1.41.59.51 0 1.02-.2 1.41-.59l7.78-7.78 2.81-2.81c.8-.78.8-2.07 0-2.86zM5.41 20L4 18.59l7.72-7.72 1.47 1.35L5.41 20z\"/>\n",
              "  </svg>\n",
              "      </button>\n",
              "      \n",
              "  <style>\n",
              "    .colab-df-container {\n",
              "      display:flex;\n",
              "      flex-wrap:wrap;\n",
              "      gap: 12px;\n",
              "    }\n",
              "\n",
              "    .colab-df-convert {\n",
              "      background-color: #E8F0FE;\n",
              "      border: none;\n",
              "      border-radius: 50%;\n",
              "      cursor: pointer;\n",
              "      display: none;\n",
              "      fill: #1967D2;\n",
              "      height: 32px;\n",
              "      padding: 0 0 0 0;\n",
              "      width: 32px;\n",
              "    }\n",
              "\n",
              "    .colab-df-convert:hover {\n",
              "      background-color: #E2EBFA;\n",
              "      box-shadow: 0px 1px 2px rgba(60, 64, 67, 0.3), 0px 1px 3px 1px rgba(60, 64, 67, 0.15);\n",
              "      fill: #174EA6;\n",
              "    }\n",
              "\n",
              "    [theme=dark] .colab-df-convert {\n",
              "      background-color: #3B4455;\n",
              "      fill: #D2E3FC;\n",
              "    }\n",
              "\n",
              "    [theme=dark] .colab-df-convert:hover {\n",
              "      background-color: #434B5C;\n",
              "      box-shadow: 0px 1px 3px 1px rgba(0, 0, 0, 0.15);\n",
              "      filter: drop-shadow(0px 1px 2px rgba(0, 0, 0, 0.3));\n",
              "      fill: #FFFFFF;\n",
              "    }\n",
              "  </style>\n",
              "\n",
              "      <script>\n",
              "        const buttonEl =\n",
              "          document.querySelector('#df-54ce7c7d-0a9f-48e6-bdb0-b3e5502806a6 button.colab-df-convert');\n",
              "        buttonEl.style.display =\n",
              "          google.colab.kernel.accessAllowed ? 'block' : 'none';\n",
              "\n",
              "        async function convertToInteractive(key) {\n",
              "          const element = document.querySelector('#df-54ce7c7d-0a9f-48e6-bdb0-b3e5502806a6');\n",
              "          const dataTable =\n",
              "            await google.colab.kernel.invokeFunction('convertToInteractive',\n",
              "                                                     [key], {});\n",
              "          if (!dataTable) return;\n",
              "\n",
              "          const docLinkHtml = 'Like what you see? Visit the ' +\n",
              "            '<a target=\"_blank\" href=https://colab.research.google.com/notebooks/data_table.ipynb>data table notebook</a>'\n",
              "            + ' to learn more about interactive tables.';\n",
              "          element.innerHTML = '';\n",
              "          dataTable['output_type'] = 'display_data';\n",
              "          await google.colab.output.renderOutput(dataTable, element);\n",
              "          const docLink = document.createElement('div');\n",
              "          docLink.innerHTML = docLinkHtml;\n",
              "          element.appendChild(docLink);\n",
              "        }\n",
              "      </script>\n",
              "    </div>\n",
              "  </div>\n",
              "  "
            ],
            "text/plain": [
              "   Unnamed: 0         UTC  Temperature[C]  Humidity[%]  TVOC[ppb]  eCO2[ppm]  \\\n",
              "0           0  1654733331          20.000        57.36          0        400   \n",
              "1           1  1654733332          20.015        56.67          0        400   \n",
              "2           2  1654733333          20.029        55.96          0        400   \n",
              "3           3  1654733334          20.044        55.28          0        400   \n",
              "4           4  1654733335          20.059        54.69          0        400   \n",
              "\n",
              "   Raw H2  Raw Ethanol  Pressure[hPa]  PM1.0  PM2.5  NC0.5  NC1.0  NC2.5  CNT  \\\n",
              "0   12306        18520        939.735    0.0    0.0    0.0    0.0    0.0    0   \n",
              "1   12345        18651        939.744    0.0    0.0    0.0    0.0    0.0    1   \n",
              "2   12374        18764        939.738    0.0    0.0    0.0    0.0    0.0    2   \n",
              "3   12390        18849        939.736    0.0    0.0    0.0    0.0    0.0    3   \n",
              "4   12403        18921        939.744    0.0    0.0    0.0    0.0    0.0    4   \n",
              "\n",
              "   Fire Alarm  \n",
              "0           0  \n",
              "1           0  \n",
              "2           0  \n",
              "3           0  \n",
              "4           0  "
            ]
          },
          "execution_count": 98,
          "metadata": {},
          "output_type": "execute_result"
        }
      ],
      "source": [
        "df = pd.read_csv(\"/content/smoke-detection-dataset/smoke_detection_iot.csv\")\n",
        "df.head()"
      ]
    },
    {
      "cell_type": "markdown",
      "metadata": {
        "id": "I4tgiOCyicE1"
      },
      "source": [
        "# Data Preprocessing "
      ]
    },
    {
      "cell_type": "code",
      "execution_count": null,
      "metadata": {
        "colab": {
          "base_uri": "https://localhost:8080/"
        },
        "id": "a65TzCO2NNnx",
        "outputId": "9b524eb8-15e2-4c3f-f11d-0d2b09bc328f"
      },
      "outputs": [
        {
          "data": {
            "image/png": "[encoded data removed]",
            "text/plain": [
              "<Figure size 864x720 with 2 Axes>"
            ]
          },
          "metadata": {
            "needs_background": "light"
          },
          "output_type": "display_data"
        }
      ],
      "source": [
        "def plot_correlation_map(df ):\n",
        "    corr = df.corr()\n",
        "    s , ax = plt.subplots( figsize =( 12 , 10 ) )\n",
        "    cmap = sns.diverging_palette( 220 , 10 , as_cmap = True )\n",
        "    s = sns.heatmap(\n",
        "            corr, \n",
        "            cmap = cmap,\n",
        "            square=True, \n",
        "            cbar_kws={ 'shrink' : .9 }, \n",
        "            ax=ax, \n",
        "            annot = True, \n",
        "            annot_kws = { 'fontsize' : 12 }\n",
        "            )\n",
        "plot_correlation_map( df )"
      ]
    },
    {
      "cell_type": "code",
      "execution_count": null,
      "metadata": {
        "id": "BLLxvmqzipwZ"
      },
      "outputs": [],
      "source": [
        "y = df.pop('Fire Alarm').to_numpy()\n",
        "X = df"
      ]
    },
    {
      "cell_type": "code",
      "execution_count": null,
      "metadata": {
        "id": "0AWc7w25s_J3"
      },
      "outputs": [],
      "source": [
        "X_train, X_test, y_train, y_test = train_test_split(X, y, test_size=0.3, shuffle=True)"
      ]
    },
    {
      "cell_type": "code",
      "execution_count": null,
      "metadata": {
        "colab": {
          "base_uri": "https://localhost:8080/"
        },
        "id": "VhcQAXKiNDht",
        "outputId": "3ce512a9-b5c2-471c-c34d-e3685482ee20"
      },
      "outputs": [
        {
          "name": "stdout",
          "output_type": "stream",
          "text": [
            "<class 'pandas.core.frame.DataFrame'>\n",
            "RangeIndex: 62630 entries, 0 to 62629\n",
            "Data columns (total 14 columns):\n",
            " #   Column          Non-Null Count  Dtype  \n",
            "---  ------          --------------  -----  \n",
            " 0   Temperature[C]  62630 non-null  float64\n",
            " 1   Humidity[%]     62630 non-null  float64\n",
            " 2   TVOC[ppb]       62630 non-null  int64  \n",
            " 3   eCO2[ppm]       62630 non-null  int64  \n",
            " 4   Raw H2          62630 non-null  int64  \n",
            " 5   Raw Ethanol     62630 non-null  int64  \n",
            " 6   Pressure[hPa]   62630 non-null  float64\n",
            " 7   PM1.0           62630 non-null  float64\n",
            " 8   PM2.5           62630 non-null  float64\n",
            " 9   NC0.5           62630 non-null  float64\n",
            " 10  NC1.0           62630 non-null  float64\n",
            " 11  NC2.5           62630 non-null  float64\n",
            " 12  CNT             62630 non-null  int64  \n",
            " 13  Fire Alarm      62630 non-null  int64  \n",
            "dtypes: float64(8), int64(6)\n",
            "memory usage: 6.7 MB\n"
          ]
        }
      ],
      "source": [
        "df.drop(['Unnamed: 0', 'UTC'], axis=1, inplace=True)\n",
        "df.info()"
      ]
    },
    {
      "cell_type": "code",
      "execution_count": null,
      "metadata": {
        "colab": {
          "base_uri": "https://localhost:8080/"
        },
        "id": "VVtcM4B_FLeN",
        "outputId": "1efd9c20-040f-4dbc-ebd8-2df256b5f8f4"
      },
      "outputs": [
        {
          "name": "stdout",
          "output_type": "stream",
          "text": [
            "class 0: (17873, 14)\n",
            "class 1: (44757, 14)\n"
          ]
        }
      ],
      "source": [
        "# class count\n",
        "class_count_1, class_count_0 = df['Fire Alarm'].value_counts()\n",
        "\n",
        "# Separate class\n",
        "class_0 = df[df['Fire Alarm'] == 0]\n",
        "class_1 = df[df['Fire Alarm'] == 1]# print the shape of the class\n",
        "print('class 0:', class_0.shape)\n",
        "print('class 1:', class_1.shape)"
      ]
    },
    {
      "cell_type": "code",
      "execution_count": null,
      "metadata": {
        "colab": {
          "base_uri": "https://localhost:8080/",
          "height": 347
        },
        "id": "madSHystFEBu",
        "outputId": "826a9f6b-06a1-450a-b7b6-868a290aa2d3"
      },
      "outputs": [
        {
          "name": "stdout",
          "output_type": "stream",
          "text": [
            "total class of 1 and0: 1    17873\n",
            "0    17873\n",
            "Name: Fire Alarm, dtype: int64\n"
          ]
        },
        {
          "data": {
            "text/plain": [
              "<matplotlib.axes._subplots.AxesSubplot at 0x7f459883eed0>"
            ]
          },
          "execution_count": 103,
          "metadata": {},
          "output_type": "execute_result"
        },
        {
          "data": {
            "image/png": "[encoded data removed]",
            "text/plain": [
              "<Figure size 432x288 with 1 Axes>"
            ]
          },
          "metadata": {
            "needs_background": "light"
          },
          "output_type": "display_data"
        }
      ],
      "source": [
        "class_1_under = class_1.sample(class_count_0)\n",
        "\n",
        "test_under = pd.concat([class_1_under, class_0], axis=0)\n",
        "\n",
        "print(\"total class of 1 and0:\",test_under['Fire Alarm'].value_counts())# plot the count after under-sampeling\n",
        "test_under['Fire Alarm'].value_counts().plot(kind='bar', title='count (target)')"
      ]
    },
    {
      "cell_type": "code",
      "execution_count": null,
      "metadata": {
        "id": "5JxsVRmrH0ch"
      },
      "outputs": [],
      "source": [
        "df = pd.concat([class_1_under, class_0 ])"
      ]
    },
    {
      "cell_type": "markdown",
      "metadata": {
        "id": "eUnEKKkqihlc"
      },
      "source": [
        " # Model Fuzzy cMean"
      ]
    },
    {
      "cell_type": "code",
      "execution_count": null,
      "metadata": {
        "id": "wAIOKnyKhvnk"
      },
      "outputs": [],
      "source": [
        "cntr, u_orig, _, _, _, _, _ = fuzzy.cluster.cmeans(data= X_train.T, c=2, m =2, error=0.005, maxiter=1000)"
      ]
    },
    {
      "cell_type": "code",
      "execution_count": null,
      "metadata": {
        "colab": {
          "base_uri": "https://localhost:8080/"
        },
        "id": "zKYGcSdPWWz1",
        "outputId": "8ffa309e-a226-4109-c45b-3f2157f5eb7c"
      },
      "outputs": [
        {
          "data": {
            "text/plain": [
              "(2, 25022)"
            ]
          },
          "execution_count": 41,
          "metadata": {},
          "output_type": "execute_result"
        }
      ],
      "source": [
        "np.shape(u_orig)"
      ]
    },
    {
      "cell_type": "code",
      "execution_count": null,
      "metadata": {
        "colab": {
          "base_uri": "https://localhost:8080/"
        },
        "id": "4wyqNML_P5rJ",
        "outputId": "d356d71a-78ee-4276-ab09-1ce0b82fbbc1"
      },
      "outputs": [
        {
          "data": {
            "text/plain": [
              "array([[0, 1, 1, ..., 0, 0, 1],\n",
              "       [1, 0, 0, ..., 1, 0, 0]])"
            ]
          },
          "execution_count": 77,
          "metadata": {},
          "output_type": "execute_result"
        }
      ],
      "source": [
        "cluster_membership_cut = fuzzy.defuzzify.lambda_cut(u_orig, 0.9)\n",
        "cluster_membership_cut"
      ]
    },
    {
      "cell_type": "code",
      "execution_count": null,
      "metadata": {
        "colab": {
          "base_uri": "https://localhost:8080/"
        },
        "id": "-TS6RiZcQr-H",
        "outputId": "07b75280-22ce-4490-ca48-2563e6b39c9a"
      },
      "outputs": [
        {
          "name": "stdout",
          "output_type": "stream",
          "text": [
            "Fuzzy CMeans train accuracy: 0.8532091759251859\n"
          ]
        }
      ],
      "source": [
        "cluster_membership_cut_2 = np.argmax(cluster_membership_cut, axis=0)\n",
        "print (f'Fuzzy CMeans train accuracy: {accuracy_score(y_train, 1-cluster_membership_cut_2)}' )"
      ]
    },
    {
      "cell_type": "code",
      "execution_count": null,
      "metadata": {
        "colab": {
          "base_uri": "https://localhost:8080/"
        },
        "id": "6dFsNhSKIj0E",
        "outputId": "b8d1fb9f-65dd-4d56-eb10-f92e77d8f4d7"
      },
      "outputs": [
        {
          "data": {
            "text/plain": [
              "array([[11016,  1479],\n",
              "       [ 2194, 10333]])"
            ]
          },
          "execution_count": 79,
          "metadata": {},
          "output_type": "execute_result"
        }
      ],
      "source": [
        "confusion_matrix(y_train, 1-cluster_membership_cut_2)\n"
      ]
    },
    {
      "cell_type": "code",
      "execution_count": null,
      "metadata": {
        "colab": {
          "base_uri": "https://localhost:8080/"
        },
        "id": "JgLfaIbpKXbD",
        "outputId": "1edc9a11-aab4-4897-afc5-d71ef92a627c"
      },
      "outputs": [
        {
          "data": {
            "text/plain": [
              "array([0, 1, 1, ..., 1, 1, 1])"
            ]
          },
          "execution_count": 80,
          "metadata": {},
          "output_type": "execute_result"
        }
      ],
      "source": [
        "u_test, u0_test, _, _, _, _ = fuzzy.cluster.cmeans_predict(\n",
        "    X_test.T, cntr, 2, error=0.005, maxiter=1000)\n",
        "cluster_membership_cut_test = fuzzy.defuzzify.lambda_cut(u_test, 0.5)\n",
        "cluster_membership_test = np.argmax(cluster_membership_cut_test, axis=0)\n",
        "cluster_membership_test"
      ]
    },
    {
      "cell_type": "code",
      "execution_count": null,
      "metadata": {
        "colab": {
          "base_uri": "https://localhost:8080/"
        },
        "id": "b-O27HeKKq81",
        "outputId": "d1f56415-c97c-45ae-c3d2-6ab2fe37f140"
      },
      "outputs": [
        {
          "name": "stdout",
          "output_type": "stream",
          "text": [
            "Fuzzy CMeans test accuracy: 0.8016598284222305\n"
          ]
        }
      ],
      "source": [
        "print(f'Fuzzy CMeans test accuracy: {accuracy_score(y_test, 1-cluster_membership_test)}' )\n"
      ]
    },
    {
      "cell_type": "code",
      "execution_count": null,
      "metadata": {
        "colab": {
          "base_uri": "https://localhost:8080/"
        },
        "id": "q0RttI1uirMo",
        "outputId": "e76e2cae-457c-4721-89a5-1480a5d09903"
      },
      "outputs": [
        {
          "data": {
            "text/plain": [
              "array([[5068,  310],\n",
              "       [1817, 3529]])"
            ]
          },
          "execution_count": 82,
          "metadata": {},
          "output_type": "execute_result"
        }
      ],
      "source": [
        "confusion_matrix(y_test, 1-cluster_membership_test)\n"
      ]
    },
    {
      "cell_type": "markdown",
      "metadata": {
        "id": "Xg4Zh1Bu5jaP"
      },
      "source": [
        "# Fuzzy_SVM"
      ]
    },
    {
      "cell_type": "code",
      "execution_count": null,
      "metadata": {},
      "outputs": [],
      "source": [
        "from cvxopt import matrix, solvers\n",
        "import numpy as np\n",
        "from scipy.spatial.distance import cdist\n",
        "\n",
        "#https://github.com/giangtranml/ml-from-scratch/blob/master/svm/svm.py\n",
        "#The updates are done on that SVM-implementation link on github\n",
        "\n",
        "\n",
        "class Fuzzy_SVM:\n",
        "\n",
        "    kernels = {\"linear\": \"_linear_kernel\"}\n",
        "\n",
        "    def __init__(self, C=0.5, kernel='linear', degree=3, gamma='auto', r=0.0,debug=False, is_saved=False):\n",
        "        self.C = C\n",
        "        if kernel not in list(self.kernels.keys()):\n",
        "            self.kernel = 'linear'\n",
        "        else:\n",
        "            self.kernel = kernel\n",
        "        self.degree = degree\n",
        "        self.gamma = gamma\n",
        "        self.r = r\n",
        "        self.debug = debug\n",
        "        self.is_saved = is_saved\n",
        "        self.support_vectors, self.dual_coef = None, None\n",
        "\n",
        "    def _linear_kernel(self, x, z):\n",
        "        return np.dot(x, z.T)\n",
        "\n",
        "    def _solve_lagrange_dual_function(self, X_train, y_train, u_orig):\n",
        "        \"\"\"\n",
        "        note: maximize f(x) <==> minimize -f(x)\n",
        "        ==> Using cvxopt.qp\n",
        "        minimize: f(x) = (1/2)*x'*P*x + q'*x\n",
        "        s.t: G*x <= h #upper\n",
        "             A*x = b #lower\n",
        "        V = [x_1*y_1, x_2*y_2, ..., x_n*y_n]\n",
        "        P = V.T * V\n",
        "        q = (-1).T\n",
        "        G = [[-1, 0, 0, ..., 0],\n",
        "             [0, -1, 0, ..., 0],\n",
        "             [0, 0, -1, ..., 0],\n",
        "             ....              ,\n",
        "             [0, 0, 0, ..., -1],\n",
        "             --------------\n",
        "             [1, 0, 0, ..., 0],\n",
        "             [0, 1, 0, ..., 0],\n",
        "             [0, 0, 1, ..., 0],\n",
        "             ....             ,\n",
        "             [0, 0, 0, ..., 1]]\n",
        "            => G.shape = (2*N, N)\n",
        "        h = [[0, 0, 0, ..., 0].T, [C, C, C, ..., C].T]\n",
        "            => h.shape = (2*N, 1)\n",
        "        A = y\n",
        "        b = np.zeros(N)\n",
        "        \"\"\"\n",
        "        N, D = X_train.shape\n",
        "\n",
        "        X = getattr(self, self.kernels[self.kernel])(X_train, X_train)\n",
        "        y = y_train.dot(y_train.T)\n",
        "        P = matrix(X*y)  # shape = (N, N)\n",
        "        q = matrix(-np.ones((N, 1)))\n",
        "\n",
        "        G = matrix(np.concatenate((-np.eye(N), np.eye(N)), axis=0))  # shape = (2N, N)\n",
        "        h = matrix(np.array([0] * N + [self.C] * N * u_orig ).reshape(-1, 1))  # shape = (2N, 1)   #Updates are done on the upperbound of the alpha\n",
        "        #alpha is between 0 and C*fuzzy value of being belong\n",
        "        A = matrix(y_train,(1,N),'d')\n",
        "        b = matrix(np.zeros((1, 1)))\n",
        "        solvers.options['show_progress'] = False\n",
        "        sol = solvers.qp(P, q, G, h, A, b)\n",
        "\n",
        "        lambda_ = np.array(sol['x'])\n",
        "        return lambda_\n",
        "\n",
        "    def _solve_svm(self, X, y, lambda_):\n",
        "        \"\"\"\n",
        "        lambda_: sparse vector we found from solving lagrange dual function above.\n",
        "        --------------------------------------------------------------------------------------------------------\n",
        "        Let S = {n: 0 < lambda_n <= C (epsilon < lambda_n <= C)} support vectors set use for compute w.\n",
        "        Let M = {m: 0 < lambda_m < C (epsilon < lambda_m < C)} points that lie exactly on margins, use for compute b.\n",
        "        \"\"\"\n",
        "        epsilon = 1e-9\n",
        "        S = np.where(np.logical_or(lambda_ > epsilon, lambda_ <= self.C))[0]\n",
        "        M = np.where(np.logical_or(lambda_ > epsilon, lambda_ < self.C))[0]\n",
        "        X_S = X[S, :]\n",
        "        y_S = y[S,]\n",
        "        lambda_S = lambda_[S]\n",
        "        X_M = X[M, :]\n",
        "        y_M = y[M, ]\n",
        "\n",
        "        return X_S, lambda_S.T*y_S, X_M, y_M\n",
        "\n",
        "    def _train(self, X_train, y_train, u_orig):\n",
        "        \"\"\"\n",
        "        Solve SVM by using Lagrange duality\n",
        "        g(z) = -1/2*z'*V'*V*z + 1'*z\n",
        "        z = argmax_z g(z) <==> argmin_z -g(z)\n",
        "        z = argmin_z (1/2)*z'*V'*V*z - 1'*z\n",
        "        s.t: -z <= 0\n",
        "              z <= C\n",
        "              y'*z = 0\n",
        "        After get z, find w, b.\n",
        "        ----------------------------------------\n",
        "        \"\"\"\n",
        "        if self.gamma == 'auto':\n",
        "            self.gamma = 1/X_train.shape[1]\n",
        "        # elif self.gamma == 'scale':\n",
        "        #     self.gamma = (1/X_train.shape[1])*np.var(X_train, axis=0)\n",
        "        lambda_ = self._solve_lagrange_dual_function(X_train, y_train,u_orig)\n",
        "        print(X_train.size)\n",
        "        return self._solve_svm(X_train, y_train, lambda_)\n",
        "\n",
        "    def train(self, X_train, y_train, u_orig):\n",
        "        assert len(np.unique(y_train)) == 2, \"This SVM assumes only work for binary classification.\"\n",
        "        assert type(X_train) is np.ndarray and type(y_train) is np.ndarray, \\\n",
        "            \"Expect numpy array but got %s\" % (type(X_train) if type(X_train) is not np.ndarray else type(y_train))\n",
        "        self.support_vectors, self.dual_coef, self.X_M, self.y_M = self._train(X_train, y_train, u_orig)\n",
        "        print(f'dual: {self.dual_coef}')\n",
        "        print(f'dual Size: {self.dual_coef.size}')\n",
        "\n",
        "        if self.debug:\n",
        "            self._check_with_sklearn(X_train, y_train)\n",
        "\n",
        "    def _check_with_sklearn(self, X, y):\n",
        "        print(\"-\"*50)\n",
        "        print(\"------------ Training phrase --------------\")\n",
        "        print(\"My SVM support vectors:\", self.support_vectors)\n",
        "\n",
        "        from sklearn.svm import SVC\n",
        "        sk_svm = SVC(C=self.C, gamma=self.gamma, kernel=self.kernel, degree=self.degree, coef0=self.r)\n",
        "        sk_svm.fit(X, y)\n",
        "        print(\"Sk-learn SVM support vectors:\", sk_svm.support_vectors_)\n",
        "        print(\"-\"*50)\n",
        "\n",
        "    def decision(self, X_test):\n",
        "        assert type(X_test) is np.ndarray, \"Expect numpy array but got %s\" % (type(X_test))\n",
        "        w = self.dual_coef.dot(getattr(self, self.kernels[self.kernel])(self.support_vectors, X_test))\n",
        "        b = np.mean(self.y_M - self.dual_coef.dot(getattr(self, self.kernels[self.kernel])(self.support_vectors, self.X_M)))\n",
        "        pred = w + b\n",
        "        print(pred)\n",
        "        return pred\n",
        "\n",
        "    def predict(self, X_test):\n",
        "        \"\"\"\n",
        "        w = np.dot(dual_coef, kernel(support_vector, X_test))\n",
        "        b = (1/N_M)*sum_M(y_M - sum_S(dual_coef * kernel(support_vector, X_M)))\n",
        "        \"\"\"\n",
        "        pred = self.decision(X_test)\n",
        "        pred[pred >= 0] = 1\n",
        "        pred[pred < 0] = 0\n",
        "        return pred\n",
        "\n"
      ]
    },
    {
      "cell_type": "code",
      "execution_count": null,
      "metadata": {
        "colab": {
          "base_uri": "https://localhost:8080/"
        },
        "id": "eITe4JntKZ8t",
        "outputId": "8e9aeab7-89d5-48f4-aa7c-2fad6d61c151"
      },
      "outputs": [
        {
          "name": "stdout",
          "output_type": "stream",
          "text": [
            "65000\n",
            "dual: [[ 0.19686612 -0.         -0.34451314 ...  0.12530331 -0.\n",
            "   0.        ]]\n",
            "dual Size: 5000\n"
          ]
        }
      ],
      "source": [
        "fSVM= Fuzzy_SVM()\n",
        "fSVM.train(np.array(X_train[:5000]), np.array(y_train[:5000]), np.array(u_orig[:,:5000]))"
      ]
    },
    {
      "cell_type": "code",
      "execution_count": null,
      "metadata": {
        "colab": {
          "base_uri": "https://localhost:8080/"
        },
        "id": "NalQ1-_9dm_o",
        "outputId": "b516ad55-8364-47d3-a8da-a1876d5b240c"
      },
      "outputs": [
        {
          "name": "stdout",
          "output_type": "stream",
          "text": [
            "[[-7.18334412e+07  6.15030418e+07 -4.15857447e+06 ... -1.22459281e+08\n",
            "   4.38729618e+07  4.35238869e+07]]\n"
          ]
        },
        {
          "data": {
            "text/plain": [
              "0.8911757653265127"
            ]
          },
          "execution_count": 149,
          "metadata": {},
          "output_type": "execute_result"
        }
      ],
      "source": [
        "XT_predict_sc=fSVM.predict(np.array(X_train))\n",
        "accuracy_score(y_train, 1-XT_predict_sc[0])"
      ]
    },
    {
      "cell_type": "code",
      "execution_count": null,
      "metadata": {
        "colab": {
          "base_uri": "https://localhost:8080/"
        },
        "id": "hfEfNkIsJgXf",
        "outputId": "ec331b6e-cc35-43e2-e396-786c8bb47bbd"
      },
      "outputs": [
        {
          "name": "stdout",
          "output_type": "stream",
          "text": [
            "[[ 5.58175749e+07  4.87647171e+07  5.13679127e+07 ...  1.62933650e+08\n",
            "  -1.27016771e+08 -1.08733199e+08]]\n"
          ]
        }
      ],
      "source": [
        "X_predict_sc=fSVM.predict(np.array(X_test[:1900]))"
      ]
    },
    {
      "cell_type": "code",
      "execution_count": null,
      "metadata": {
        "colab": {
          "base_uri": "https://localhost:8080/"
        },
        "id": "W4MlI1v_KCAl",
        "outputId": "dbffba62-e8b7-4e50-ca3b-98eb68ef99e5"
      },
      "outputs": [
        {
          "data": {
            "text/plain": [
              "0.9047368421052632"
            ]
          },
          "execution_count": 143,
          "metadata": {},
          "output_type": "execute_result"
        }
      ],
      "source": [
        "accuracy_score(y_test[:1900], 1-X_predict_sc[0])"
      ]
    },
    {
      "cell_type": "code",
      "execution_count": null,
      "metadata": {
        "colab": {
          "base_uri": "https://localhost:8080/"
        },
        "id": "E5ColwU-NZTt",
        "outputId": "c0f7b6bc-18ea-4a99-dba3-67129282d8e8"
      },
      "outputs": [
        {
          "data": {
            "text/plain": [
              "array([[951,   7],\n",
              "       [174, 768]])"
            ]
          },
          "execution_count": 144,
          "metadata": {},
          "output_type": "execute_result"
        }
      ],
      "source": [
        "confusion_matrix(y_test[:1900], 1-X_predict_sc[0])\n"
      ]
    },
    {
      "cell_type": "code",
      "execution_count": null,
      "metadata": {
        "colab": {
          "base_uri": "https://localhost:8080/"
        },
        "id": "D1ZytGFqNlmv",
        "outputId": "d04e0d00-7e7c-459f-f797-112bca55b746"
      },
      "outputs": [
        {
          "data": {
            "text/plain": [
              "0.8945835760046593"
            ]
          },
          "execution_count": 145,
          "metadata": {},
          "output_type": "execute_result"
        }
      ],
      "source": [
        "f1_score(y_test[:1900], 1-X_predict_sc[0])"
      ]
    }
  ],
  "metadata": {
    "colab": {
      "collapsed_sections": [
        "tdZqs6DBjlEl",
        "Xg4Zh1Bu5jaP"
      ],
      "provenance": []
    },
    "kernelspec": {
      "display_name": "Python 3.9.5 64-bit",
      "language": "python",
      "name": "python3"
    },
    "language_info": {
      "codemirror_mode": {
        "name": "ipython",
        "version": 3
      },
      "file_extension": ".py",
      "mimetype": "text/x-python",
      "name": "python",
      "nbconvert_exporter": "python",
      "pygments_lexer": "ipython3",
      "version": "3.9.5"
    },
    "vscode": {
      "interpreter": {
        "hash": "2e3b6b0b99173f9265a096c919266c1e062fa40aa56c24545495bcfe878eb41d"
      }
    }
  },
  "nbformat": 4,
  "nbformat_minor": 0
}
